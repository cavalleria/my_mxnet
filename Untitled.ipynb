{
 "cells": [
  {
   "cell_type": "code",
   "execution_count": 1,
   "metadata": {
    "collapsed": true,
    "scrolled": true
   },
   "outputs": [],
   "source": [
    "import mxnet as mx\n",
    "import os, time, shutil\n",
    "import logging\n",
    "from mxnet import gluon, image, init, nd\n",
    "from mxnet import autograd as ag\n",
    "from mxnet.gluon import nn\n",
    "from mxnet.gluon.data.vision import transforms\n",
    "from gluoncv.model_zoo import get_model\n",
    "import numpy as np\n",
    "import gluoncv\n",
    "from gluoncv.utils import export_block,viz,makedirs\n",
    "\n",
    "\n",
    "\n",
    "\n",
    "model_name = 'xception'\n",
    "root_dir = '/home/lin/sheldon/my_mxnet'\n",
    "weights_name = 'gluoncv-xception'\n",
    "num_classes = 25\n",
    "num_gpus = 2\n",
    "batch_per_gpu = 8\n",
    "train_epoch = 10\n",
    "\n",
    "\n",
    "\n",
    "batch_size = batch_per_gpu * num_gpus\n",
    "rec_path = os.path.join(root_dir, 'img_file')\n",
    "prefix = os.path.join(root_dir, 'weights/xception')\n",
    "\n",
    "\n",
    "\n",
    "def get_iterators(batch_size = batch_size, data_shape=(3, 299, 299),shuffle=True):\n",
    "    train_data = mx.io.ImageRecordIter(\n",
    "        path_imgrec=os.path.join(rec_path, 'train.rec'),\n",
    "        path_imgidx=os.path.join(rec_path, 'train.idx'),\n",
    "        data_shape=data_shape,\n",
    "        batch_size=batch_size,\n",
    "        resize = 299,\n",
    "        saturation = 0.2,\n",
    "        contrast = 0.2,\n",
    "        shuffle=shuffle,\n",
    "        rand_mirror = True,\n",
    "        brightness = 0.2,\n",
    "        data_name='data',\n",
    "        label_name='softmax_label',\n",
    "        rotate = 180\n",
    "    )\n",
    "    val_data = mx.io.ImageRecordIter(\n",
    "        path_imgrec=os.path.join(rec_path, 'val.rec'),\n",
    "        path_imgidx=os.path.join(rec_path, 'val.idx'),\n",
    "        data_shape=data_shape,\n",
    "        data_name='data',\n",
    "        label_name='softmax_label',\n",
    "        batch_size=batch_size,\n",
    "        resize = 299,\n",
    "    )\n",
    "    return (train_data, val_data)"
   ]
  },
  {
   "cell_type": "code",
   "execution_count": 100,
   "metadata": {},
   "outputs": [
    {
     "name": "stderr",
     "output_type": "stream",
     "text": [
      "/home/lin/anaconda3/lib/python3.5/site-packages/mxnet/module/base_module.py:67: UserWarning: Data provided by label_shapes don't match names specified by label_names ([DataDesc[softmax_label,(16,),<class 'numpy.float32'>,NCHW]] vs. [])\n",
      "  warnings.warn(msg)\n"
     ]
    }
   ],
   "source": [
    "sym, arg_params, aux_params = mx.model.load_checkpoint(prefix, 10)\n",
    "\n",
    "mod = mx.mod.Module(symbol=sym,context=[mx.gpu(0),mx.gpu(1)],\n",
    "                    data_names=[\"data\"], label_names=None)\n",
    "mod.bind(for_training=False,data_shapes=[(\"data\",(16,3,299,299))],label_shapes=[(\"softmax_label\",(16,))])\n",
    "# 设定模型参数\n",
    "mod.set_params(arg_params,aux_params,allow_missing=True)"
   ]
  },
  {
   "cell_type": "code",
   "execution_count": 114,
   "metadata": {
    "collapsed": true
   },
   "outputs": [],
   "source": [
    "def micro_f1_score(label,pred):\n",
    "    from sklearn.metrics import f1_score\n",
    "    from sklearn.metrics import hamming_loss\n",
    "    import numpy as np\n",
    "    pred = np.squeeze(pred)\n",
    "    pred = np.argsort(pred,axis = 1)[:,-1]\n",
    "#     result = f1_score(label, pred,average='micro',labels = np.unique(pred))\n",
    "    result = f1_score(label, pred,average='micro',labels = np.unique(pred))\n",
    "    return result\n",
    "    \n",
    "def macro_f1_score(label,pred):\n",
    "    from sklearn.metrics import f1_score\n",
    "    from sklearn.metrics import hamming_loss\n",
    "    import numpy as np\n",
    "    pred = np.squeeze(pred)\n",
    "    pred = np.argsort(pred,axis = 1)[:,-1]\n",
    "#     result = f1_score(label, pred,average='macro',labels = np.unique(pred))\n",
    "    result = f1_score(label, pred,average='macro',labels = np.unique(pred))\n",
    "    return result\n",
    "    "
   ]
  },
  {
   "cell_type": "code",
   "execution_count": 115,
   "metadata": {},
   "outputs": [
    {
     "data": {
      "text/plain": [
       "{'accuracy': 0.9375,\n",
       " 'macro_f1_score': 0.9722222222222223,\n",
       " 'micro_f1_score': 0.9666666666666667,\n",
       " 'top_k_accuracy_5': 1.0}"
      ]
     },
     "execution_count": 115,
     "metadata": {},
     "output_type": "execute_result"
    }
   ],
   "source": [
    "eval_metrics_1 = mx.metric.Accuracy()\n",
    "eval_metrics_2 = mx.metric.TopKAccuracy(5)\n",
    "eval_metrics_3 = mx.metric.create(micro_f1_score)\n",
    "eval_metrics_4 = mx.metric.create(macro_f1_score)\n",
    "eval_metrics = mx.metric.CompositeEvalMetric()\n",
    "for child_metric in [eval_metrics_1, eval_metrics_2,eval_metrics_3,eval_metrics_4]:\n",
    "    eval_metrics.add(child_metric)\n",
    "(train, val) = get_iterators(batch_size)\n",
    "a = mod.score(eval_data = val,eval_metric = eval_metrics,num_batch = 1)\n",
    "a = dict(a)\n",
    "a"
   ]
  },
  {
   "cell_type": "code",
   "execution_count": 94,
   "metadata": {},
   "outputs": [
    {
     "data": {
      "text/plain": [
       "{'accuracy': 0.9198998178506376,\n",
       " 'macro_f1_score': 0.8641668563195138,\n",
       " 'micro_f1_score': 0.9198998178506376,\n",
       " 'top_k_accuracy_5': 0.9951502732240437}"
      ]
     },
     "execution_count": 94,
     "metadata": {},
     "output_type": "execute_result"
    }
   ],
   "source": [
    "a = dict(a)\n",
    "a"
   ]
  },
  {
   "cell_type": "code",
   "execution_count": null,
   "metadata": {},
   "outputs": [],
   "source": [
    "mod.output_shapes\n",
    "(train, val) = get_iterators(batch_size)\n",
    "val.reset()\n",
    "batch_data = val.next()"
   ]
  },
  {
   "cell_type": "code",
   "execution_count": null,
   "metadata": {},
   "outputs": [],
   "source": [
    "batch_data.label"
   ]
  },
  {
   "cell_type": "code",
   "execution_count": null,
   "metadata": {},
   "outputs": [],
   "source": [
    "val.reset()\n",
    "mod.forward(val.next())"
   ]
  },
  {
   "cell_type": "code",
   "execution_count": null,
   "metadata": {},
   "outputs": [],
   "source": [
    "prob = mod.get_outputs()[0].asnumpy()\n",
    "prob = np.squeeze(prob)\n",
    "a = np.argsort(prob,axis = 1)[:,-1]\n",
    "a\n",
    "# a[:,0]"
   ]
  },
  {
   "cell_type": "code",
   "execution_count": 116,
   "metadata": {},
   "outputs": [
    {
     "data": {
      "text/plain": [
       "\n",
       "[[3.98765520e-13 9.99844313e-01 6.19093266e-09 5.54473658e-08\n",
       "  6.38566838e-11 2.15013662e-13 2.82305124e-10 9.32476469e-05\n",
       "  6.21436084e-06 1.63510322e-07 3.25453982e-07 6.74017439e-11\n",
       "  1.33658684e-09 4.49267446e-07 2.33182675e-11 4.80407519e-11\n",
       "  4.96623294e-08 1.01876330e-08 5.50551595e-05 7.88477172e-10\n",
       "  6.65730804e-10 6.48560997e-11 6.89227520e-08 3.38429035e-10\n",
       "  1.82499582e-09]\n",
       " [9.31293029e-11 7.07452585e-09 1.97008835e-14 6.91337043e-10\n",
       "  1.14139125e-08 2.88335336e-16 5.15910266e-11 1.13320738e-07\n",
       "  1.40374496e-12 1.47252355e-09 9.44443036e-06 3.55245069e-11\n",
       "  5.99424885e-11 7.47082743e-11 2.25096244e-11 1.73540187e-08\n",
       "  1.35595923e-10 8.76335325e-05 5.52964993e-05 2.01976640e-08\n",
       "  9.99845743e-01 5.39090203e-13 2.65926992e-09 3.09577359e-07\n",
       "  1.38796941e-06]\n",
       " [3.53099605e-10 6.99830055e-11 9.67295022e-10 1.62404930e-07\n",
       "  6.28601893e-10 7.45947037e-09 1.46401710e-10 2.56007793e-09\n",
       "  2.23793484e-11 2.95561722e-06 9.99959826e-01 5.30654560e-08\n",
       "  1.96779060e-09 4.13154788e-10 1.80186595e-12 1.81230114e-10\n",
       "  2.73176273e-12 3.43444226e-05 2.34773120e-06 1.01611497e-09\n",
       "  4.53064919e-09 1.60061813e-08 2.08482520e-09 3.94863022e-08\n",
       "  2.30687263e-07]\n",
       " [8.72576678e-08 5.61181707e-07 2.78947585e-08 7.87850469e-03\n",
       "  1.14745635e-05 1.79989056e-05 6.60481758e-09 8.26692656e-07\n",
       "  6.88165542e-08 1.08176481e-08 4.25074631e-06 2.22637686e-06\n",
       "  9.87230361e-01 3.26216454e-03 1.08534505e-03 8.89555595e-05\n",
       "  6.92774904e-08 4.87352827e-06 6.75526280e-06 4.03771901e-06\n",
       "  2.10297500e-07 3.15204440e-09 2.81499204e-04 3.53562136e-05\n",
       "  8.44334209e-05]\n",
       " [1.07324158e-05 5.42672112e-08 3.26055849e-10 1.83784823e-06\n",
       "  1.55354810e-05 4.04078682e-09 5.13380485e-07 5.61320076e-06\n",
       "  2.29356978e-09 1.39555550e-06 6.34401068e-02 5.55869337e-06\n",
       "  3.65824604e-07 1.06334795e-07 3.21668153e-07 5.19396963e-05\n",
       "  5.34419575e-09 2.33748984e-02 1.05353929e-02 8.38717970e-05\n",
       "  8.86114657e-01 3.38428263e-09 8.17484542e-05 1.94704389e-05\n",
       "  1.62559301e-02]\n",
       " [1.31726548e-11 1.17599791e-10 1.94073338e-12 3.00301695e-09\n",
       "  7.66088928e-12 2.38364721e-13 6.50193571e-12 2.79605561e-10\n",
       "  1.62455159e-13 8.90617413e-10 9.76694573e-05 8.41090042e-09\n",
       "  1.22130173e-09 4.25859931e-10 1.07472198e-13 3.67969633e-09\n",
       "  9.49934684e-13 9.99902129e-01 3.81564078e-08 8.57432875e-11\n",
       "  1.81505143e-07 2.09543212e-13 5.25550270e-09 4.69250541e-11\n",
       "  5.64741454e-09]\n",
       " [3.82375416e-11 1.27093127e-08 1.81890933e-10 7.45804414e-07\n",
       "  2.02211421e-08 2.30669962e-11 1.63298999e-10 1.07241176e-08\n",
       "  8.12495138e-09 1.55357327e-08 1.35790458e-06 8.04292366e-09\n",
       "  9.99924064e-01 2.61009463e-05 8.16125336e-08 2.60979846e-07\n",
       "  8.22839663e-09 4.87256557e-07 1.77743118e-07 8.16050260e-07\n",
       "  2.26421566e-08 5.66818779e-11 4.57500428e-05 3.11487973e-08\n",
       "  1.29211159e-07]\n",
       " [3.74490483e-08 3.42246448e-03 8.25728872e-04 5.41657585e-07\n",
       "  1.76868014e-07 2.69583147e-08 1.62691134e-03 9.40481603e-01\n",
       "  2.79582199e-02 1.03804062e-03 1.70577459e-06 2.33099740e-06\n",
       "  6.60594353e-08 9.54806819e-06 2.10535820e-08 4.87559291e-08\n",
       "  2.46236045e-02 3.64924631e-07 3.94539029e-06 1.05962183e-09\n",
       "  2.52279210e-06 2.39769122e-07 8.04023292e-10 3.36166721e-07\n",
       "  1.46919547e-06]\n",
       " [4.64452626e-07 2.22814306e-05 1.56997680e-06 5.26711810e-04\n",
       "  1.94364606e-04 1.73112983e-06 1.58796285e-03 4.09107134e-02\n",
       "  1.78197786e-06 6.54342284e-06 2.63495076e-05 6.51595255e-05\n",
       "  1.42325612e-03 9.51651812e-01 3.88455464e-06 3.04891182e-06\n",
       "  3.34374164e-03 3.30264612e-07 1.90013932e-04 1.12625756e-07\n",
       "  2.53401799e-06 7.10420922e-09 1.66247659e-07 1.21189453e-06\n",
       "  3.43040228e-05]\n",
       " [2.21796799e-05 6.19456569e-06 3.55571865e-05 1.12995664e-02\n",
       "  3.21245898e-05 3.82055987e-06 1.53565816e-06 1.67448306e-03\n",
       "  6.69920269e-07 7.52416998e-03 9.46700931e-01 2.88512849e-04\n",
       "  9.35782464e-06 4.64719869e-06 3.67950349e-07 5.73726829e-05\n",
       "  1.90026294e-05 2.87244916e-02 3.48850340e-03 4.83685835e-06\n",
       "  5.66187600e-06 5.60885883e-06 5.00309341e-07 1.91196777e-05\n",
       "  7.07688887e-05]\n",
       " [2.73777658e-07 7.50891882e-09 1.21096079e-07 1.98052777e-03\n",
       "  4.13337739e-06 1.59639512e-05 4.87251519e-08 1.73703981e-07\n",
       "  2.39532083e-09 2.11842033e-09 3.24758332e-07 3.69755508e-05\n",
       "  3.08064082e-05 2.95604026e-04 9.97470260e-01 1.22833997e-04\n",
       "  3.15784291e-07 3.38650153e-07 1.95774578e-06 2.07870684e-07\n",
       "  2.50695194e-07 1.54348756e-10 4.24525730e-08 2.88692918e-05\n",
       "  9.99800977e-06]\n",
       " [1.47353523e-04 5.08812192e-08 6.74239609e-10 4.98951158e-05\n",
       "  2.32625715e-02 1.54095926e-06 6.71983216e-08 3.41415056e-04\n",
       "  1.29796784e-10 1.91088168e-09 1.87233702e-04 3.23680550e-04\n",
       "  1.61615546e-07 2.38133566e-07 2.09141072e-05 1.16472947e-05\n",
       "  6.30808827e-08 2.43384002e-05 3.66726199e-05 4.90705702e-07\n",
       "  4.83283162e-04 9.93941107e-09 2.42362312e-05 1.38779804e-01\n",
       "  8.36304367e-01]\n",
       " [1.35590028e-06 1.78795856e-09 1.60329361e-09 4.10389163e-07\n",
       "  2.59402498e-07 9.99898553e-01 3.19868008e-08 8.13788938e-05\n",
       "  9.41521527e-10 6.93752611e-10 9.94603738e-07 1.71280362e-07\n",
       "  1.14503411e-08 3.65700146e-08 1.76379388e-06 1.21978951e-08\n",
       "  1.87853372e-10 4.42585844e-08 6.17254727e-08 2.84741009e-10\n",
       "  3.35967854e-07 2.22701964e-08 7.68985942e-09 7.12710175e-08\n",
       "  1.46633574e-05]\n",
       " [2.89940498e-08 3.23088557e-06 5.67798752e-10 7.29749172e-06\n",
       "  1.35638500e-02 3.57125032e-08 1.03937388e-07 2.09388062e-01\n",
       "  1.01285591e-09 9.38542186e-08 4.34750342e-04 1.61829066e-05\n",
       "  1.47672012e-07 8.76575399e-08 1.50405739e-07 2.46197010e-06\n",
       "  3.41407417e-06 1.35870359e-04 3.19008977e-05 1.02713420e-06\n",
       "  3.24705275e-06 4.33381928e-07 9.83276695e-05 3.55377555e-01\n",
       "  4.20931697e-01]\n",
       " [1.94618636e-07 1.21995780e-09 9.54300944e-11 4.93904281e-06\n",
       "  4.21775989e-02 4.36055414e-09 1.77563020e-10 1.50425493e-07\n",
       "  5.43493639e-10 1.33752021e-09 2.67463122e-07 6.37521325e-08\n",
       "  1.25219316e-07 2.35068072e-07 1.70804828e-08 9.48822958e-08\n",
       "  4.90201080e-09 7.25820115e-09 4.72274508e-07 1.95039661e-07\n",
       "  1.77422006e-08 1.44043284e-07 3.17350396e-06 9.55923498e-01\n",
       "  1.88886398e-03]\n",
       " [3.79447342e-13 1.27173232e-08 1.17275863e-06 1.04497175e-08\n",
       "  5.89871318e-10 1.25957513e-12 7.84780774e-09 3.82179373e-08\n",
       "  3.84937812e-06 5.54347753e-05 2.95160762e-09 1.17896832e-07\n",
       "  5.68058098e-08 9.99529958e-01 1.82643345e-10 4.71577399e-09\n",
       "  4.09428234e-04 1.05521645e-08 1.39110155e-08 3.93222344e-10\n",
       "  8.50742587e-10 1.13419612e-11 7.45079259e-12 4.53847904e-10\n",
       "  4.56263416e-10]]\n",
       "<NDArray 16x25 @gpu(0)>"
      ]
     },
     "execution_count": 116,
     "metadata": {},
     "output_type": "execute_result"
    }
   ],
   "source": [
    "mod.predict(val,num_batch= 1)"
   ]
  },
  {
   "cell_type": "code",
   "execution_count": null,
   "metadata": {},
   "outputs": [],
   "source": []
  },
  {
   "cell_type": "code",
   "execution_count": null,
   "metadata": {},
   "outputs": [],
   "source": []
  },
  {
   "cell_type": "code",
   "execution_count": null,
   "metadata": {},
   "outputs": [],
   "source": []
  },
  {
   "cell_type": "code",
   "execution_count": null,
   "metadata": {},
   "outputs": [],
   "source": []
  },
  {
   "cell_type": "code",
   "execution_count": null,
   "metadata": {
    "collapsed": true
   },
   "outputs": [],
   "source": []
  },
  {
   "cell_type": "code",
   "execution_count": null,
   "metadata": {
    "collapsed": true
   },
   "outputs": [],
   "source": []
  }
 ],
 "metadata": {
  "anaconda-cloud": {},
  "kernelspec": {
   "display_name": "Python [default]",
   "language": "python",
   "name": "python3"
  },
  "language_info": {
   "codemirror_mode": {
    "name": "ipython",
    "version": 3
   },
   "file_extension": ".py",
   "mimetype": "text/x-python",
   "name": "python",
   "nbconvert_exporter": "python",
   "pygments_lexer": "ipython3",
   "version": "3.5.2"
  }
 },
 "nbformat": 4,
 "nbformat_minor": 2
}
